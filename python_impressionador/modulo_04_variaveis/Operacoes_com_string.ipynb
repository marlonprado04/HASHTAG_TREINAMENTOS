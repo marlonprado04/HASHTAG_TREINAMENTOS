{
 "cells": [
  {
   "cell_type": "markdown",
   "metadata": {},
   "source": [
    "### Operações com String no python\n"
   ]
  },
  {
   "cell_type": "code",
   "execution_count": 15,
   "metadata": {},
   "outputs": [
    {
     "name": "stdout",
     "output_type": "stream",
     "text": [
      "Exemplo de concatenação:\n",
      "Meu nome éMarlon\n",
      "--------------------------------------------------\n",
      "Exemplo 1 da operação in (respeitando maiúscula):\n",
      "True\n",
      "\n",
      "Exemploe 2 da operação in (não respeitando maiúscula):\n",
      "False\n",
      "--------------------------------------------------\n"
     ]
    }
   ],
   "source": [
    "# Concatenar:\n",
    "print(\"Exemplo de concatenação:\")\n",
    "print(\"Meu nome é\" + \"Marlon\")\n",
    "print(\"-\"*50)\n",
    "\n",
    "# Operação in, para verificar se existe um texto dentro de uma variável\n",
    "# OBS: é sensível a maiúscula ou minúscula\n",
    "\n",
    "print(\"Exemplo 1 da operação in (respeitando maiúscula):\")\n",
    "print(\"Mar\" in \"Marlon\")\n",
    "print()\n",
    "\n",
    "print(\"Exemploe 2 da operação in (não respeitando maiúscula):\")\n",
    "print(\"mar\" in \"Marlon\")\n",
    "print(\"-\"*50)\n"
   ]
  },
  {
   "cell_type": "code",
   "execution_count": null,
   "metadata": {},
   "outputs": [],
   "source": []
  }
 ],
 "metadata": {
  "kernelspec": {
   "display_name": "Python 3 (ipykernel)",
   "language": "python",
   "name": "python3"
  },
  "language_info": {
   "codemirror_mode": {
    "name": "ipython",
    "version": 3
   },
   "file_extension": ".py",
   "mimetype": "text/x-python",
   "name": "python",
   "nbconvert_exporter": "python",
   "pygments_lexer": "ipython3",
   "version": "3.9.12"
  }
 },
 "nbformat": 4,
 "nbformat_minor": 2
}
