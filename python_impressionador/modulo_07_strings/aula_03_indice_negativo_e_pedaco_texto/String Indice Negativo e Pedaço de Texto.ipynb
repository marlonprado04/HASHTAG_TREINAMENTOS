{
 "cells": [
  {
   "cell_type": "raw",
   "metadata": {},
   "source": [
    "Texto: lira@gmail.com\n",
    "\n",
    "-14 -13 -12 -11 -10 -9 -8 -7 -6 -5 -4 -3 -2 -1\n",
    "  l   i   r   a   @  g  m  a  i  l  .  c  o  m\n",
    "  0   1   2   3   4  5  6  7  8  9 10 11 12 13\n",
    "  \n",
    "Para pegar um texto de trás para frente: texto[índice] -> onde índice é negativo\n",
    "Para pegar o pedaço de um texto use : (dois pontos). texto[:indice] ou texto[indice:] ou ainda texto[indice:indice]"
   ]
  },
  {
   "cell_type": "code",
   "execution_count": 5,
   "metadata": {},
   "outputs": [
    {
     "name": "stdout",
     "output_type": "stream",
     "text": [
      "c\n",
      "lira@gmail.co\n"
     ]
    }
   ],
   "source": [
    "email = 'lira@gmail.com'\n",
    "nome = 'João Paulo Lira'\n",
    "\n",
    "# Printando um caractere final\n",
    "print(email[-3]) # retorna \"c\" do \".com\"\n",
    "\n",
    "# Printando um pedaço do texto\n",
    "print(email[:-1]) # retorna \"lira@gmail.co\", o texto todo menos o índice -1 "
   ]
  },
  {
   "cell_type": "markdown",
   "metadata": {},
   "source": [
    "Exercícios para Fixação:\n",
    "Basta completar os prints de forma correta"
   ]
  },
  {
   "cell_type": "code",
   "execution_count": 8,
   "metadata": {},
   "outputs": [
    {
     "name": "stdout",
     "output_type": "stream",
     "text": [
      "Tamanho do e-mail 14 caracteres\n",
      "Primeiro Caractere l\n",
      "Último Caractere m\n",
      "Servidor do email gmail\n"
     ]
    }
   ],
   "source": [
    "\n",
    "email = 'lira@gmail.com'\n",
    "print('Tamanho do e-mail ' + str(len(email)) + ' caracteres')\n",
    "print('Primeiro Caractere ' + email[0])\n",
    "print('Último Caractere ' + email[-1])\n",
    "print('Servidor do email ' + email[5:-4])"
   ]
  }
 ],
 "metadata": {
  "kernelspec": {
   "display_name": "Python 3",
   "language": "python",
   "name": "python3"
  },
  "language_info": {
   "codemirror_mode": {
    "name": "ipython",
    "version": 3
   },
   "file_extension": ".py",
   "mimetype": "text/x-python",
   "name": "python",
   "nbconvert_exporter": "python",
   "pygments_lexer": "ipython3",
   "version": "3.10.12"
  }
 },
 "nbformat": 4,
 "nbformat_minor": 4
}
