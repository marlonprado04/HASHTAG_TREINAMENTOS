{
 "cells": [
  {
   "cell_type": "markdown",
   "id": "a3699315",
   "metadata": {},
   "source": [
    "# Tipos de variáveis em Python"
   ]
  },
  {
   "cell_type": "markdown",
   "id": "971f5f14",
   "metadata": {},
   "source": [
    "Os tipos de variáveis padrão do Python são:\n",
    "\n",
    "- int -> Inteiro\n",
    "- string -> Texto\n",
    "- float -> Números com casas decimais (ponto flutuante)\n",
    "- bool ou boolean -> True ou False\n",
    "\n",
    "OBS: Variáveis no Python não são declaradas explicitamente, mas não é recomendado que se troque o tipo de uma variável já declarada\n"
   ]
  },
  {
   "cell_type": "code",
   "execution_count": 1,
   "id": "ec38eb45",
   "metadata": {},
   "outputs": [
    {
     "data": {
      "text/plain": [
       "int"
      ]
     },
     "execution_count": 1,
     "metadata": {},
     "output_type": "execute_result"
    }
   ],
   "source": [
    "faturamento = 1000\n",
    "type(faturamento)"
   ]
  },
  {
   "cell_type": "code",
   "execution_count": 2,
   "id": "f1cba1c1",
   "metadata": {},
   "outputs": [
    {
     "data": {
      "text/plain": [
       "float"
      ]
     },
     "execution_count": 2,
     "metadata": {},
     "output_type": "execute_result"
    }
   ],
   "source": [
    "faturamento = 1000.00\n",
    "type(faturamento)"
   ]
  },
  {
   "cell_type": "code",
   "execution_count": 3,
   "id": "d4ad1a4f",
   "metadata": {},
   "outputs": [
    {
     "data": {
      "text/plain": [
       "str"
      ]
     },
     "execution_count": 3,
     "metadata": {},
     "output_type": "execute_result"
    }
   ],
   "source": [
    "faturamento = \"1.000\"\n",
    "type(faturamento)"
   ]
  },
  {
   "cell_type": "code",
   "execution_count": 4,
   "id": "f552942a",
   "metadata": {},
   "outputs": [
    {
     "data": {
      "text/plain": [
       "bool"
      ]
     },
     "execution_count": 4,
     "metadata": {},
     "output_type": "execute_result"
    }
   ],
   "source": [
    "ganha_bonus = True\n",
    "type(ganha_bonus)"
   ]
  }
 ],
 "metadata": {
  "kernelspec": {
   "display_name": "Python 3 (ipykernel)",
   "language": "python",
   "name": "python3"
  },
  "language_info": {
   "codemirror_mode": {
    "name": "ipython",
    "version": 3
   },
   "file_extension": ".py",
   "mimetype": "text/x-python",
   "name": "python",
   "nbconvert_exporter": "python",
   "pygments_lexer": "ipython3",
   "version": "3.9.12"
  }
 },
 "nbformat": 4,
 "nbformat_minor": 5
}
