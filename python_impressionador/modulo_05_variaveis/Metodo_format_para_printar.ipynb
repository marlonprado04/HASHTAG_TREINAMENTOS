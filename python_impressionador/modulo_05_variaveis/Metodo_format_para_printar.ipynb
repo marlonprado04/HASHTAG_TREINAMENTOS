{
 "cells": [
  {
   "cell_type": "markdown",
   "id": "324f9f32",
   "metadata": {},
   "source": [
    "### Concatenando variáveis"
   ]
  },
  {
   "cell_type": "code",
   "execution_count": 4,
   "id": "f2f4cb46",
   "metadata": {},
   "outputs": [
    {
     "name": "stdout",
     "output_type": "stream",
     "text": [
      "O faturamento foi de 3000, o custo foi de 500 e o lucro foi de 2500\n"
     ]
    }
   ],
   "source": [
    "faturamento = 3000\n",
    "custo = 500\n",
    "lucro = faturamento - custo\n",
    "\n",
    "print(\"O faturamento foi de \" + str(faturamento)\n",
    "      + \", o custo foi de \" + str(custo)\n",
    "     + \" e o lucro foi de \" + str(lucro))"
   ]
  },
  {
   "cell_type": "markdown",
   "id": "173aecd1",
   "metadata": {},
   "source": [
    "### Usando o método Format"
   ]
  },
  {
   "cell_type": "code",
   "execution_count": 9,
   "id": "5fa2d986",
   "metadata": {},
   "outputs": [
    {
     "name": "stdout",
     "output_type": "stream",
     "text": [
      "O faturamento da loja foi 3000, o custo da loja foi 500 e o lucro da loja foi 2500\n"
     ]
    }
   ],
   "source": [
    "faturamento = 3000\n",
    "custo = 500\n",
    "lucro = faturamento - custo\n",
    "\n",
    "print(\"O faturamento da loja foi {0}, o custo da loja foi {1} e o lucro da loja foi {2}\".format(faturamento, custo, lucro))"
   ]
  }
 ],
 "metadata": {
  "kernelspec": {
   "display_name": "Python 3 (ipykernel)",
   "language": "python",
   "name": "python3"
  },
  "language_info": {
   "codemirror_mode": {
    "name": "ipython",
    "version": 3
   },
   "file_extension": ".py",
   "mimetype": "text/x-python",
   "name": "python",
   "nbconvert_exporter": "python",
   "pygments_lexer": "ipython3",
   "version": "3.9.12"
  }
 },
 "nbformat": 4,
 "nbformat_minor": 5
}
