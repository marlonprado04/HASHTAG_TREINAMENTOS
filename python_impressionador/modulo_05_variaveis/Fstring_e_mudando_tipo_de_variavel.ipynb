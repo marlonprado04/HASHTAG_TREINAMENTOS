{
 "cells": [
  {
   "cell_type": "markdown",
   "id": "d61f35f5",
   "metadata": {},
   "source": [
    "### F-string"
   ]
  },
  {
   "cell_type": "code",
   "execution_count": 3,
   "id": "4618c8fe",
   "metadata": {},
   "outputs": [
    {
     "name": "stdout",
     "output_type": "stream",
     "text": [
      "Faturamento de 1000 e custo de 400\n",
      "Faturamento de 100 e custo de 400\n"
     ]
    }
   ],
   "source": [
    "faturamento = 1000\n",
    "custo = 400\n",
    "\n",
    "# Printando com format\n",
    "\n",
    "print(\"Faturamento de {} e custo de {}\".format(faturamento, custo))\n",
    "\n",
    "# Printando com f-string\n",
    "\n",
    "print(f\"Faturamento de {faturamento} e custo de {custo}\")"
   ]
  },
  {
   "cell_type": "markdown",
   "id": "0cefc11b",
   "metadata": {},
   "source": [
    "### Mudança no tipo de variável"
   ]
  },
  {
   "cell_type": "code",
   "execution_count": 4,
   "id": "36e0f56f",
   "metadata": {},
   "outputs": [
    {
     "name": "stdout",
     "output_type": "stream",
     "text": [
      "Insira o valor faturado: 1000\n",
      "Insira o valor de custo: 500\n",
      "500\n"
     ]
    }
   ],
   "source": [
    "faturamento = int(input(\"Insira o valor faturado: \"))\n",
    "custo = int(input(\"Insira o valor de custo: \"))\n",
    "\n",
    "lucro = faturamento - custo\n",
    "print(lucro)\n"
   ]
  }
 ],
 "metadata": {
  "kernelspec": {
   "display_name": "Python 3 (ipykernel)",
   "language": "python",
   "name": "python3"
  },
  "language_info": {
   "codemirror_mode": {
    "name": "ipython",
    "version": 3
   },
   "file_extension": ".py",
   "mimetype": "text/x-python",
   "name": "python",
   "nbconvert_exporter": "python",
   "pygments_lexer": "ipython3",
   "version": "3.9.12"
  }
 },
 "nbformat": 4,
 "nbformat_minor": 5
}
